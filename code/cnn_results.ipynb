{
 "cells": [
  {
   "cell_type": "code",
   "execution_count": 5,
   "metadata": {
    "_cell_guid": "b1076dfc-b9ad-4769-8c92-a6c4dae69d19",
    "_uuid": "8f2839f25d086af736a60e9eeb907d3b93b6e0e5",
    "execution": {
     "iopub.execute_input": "2025-04-21T11:50:27.057578Z",
     "iopub.status.busy": "2025-04-21T11:50:27.056997Z",
     "iopub.status.idle": "2025-04-21T11:50:27.062228Z",
     "shell.execute_reply": "2025-04-21T11:50:27.061493Z",
     "shell.execute_reply.started": "2025-04-21T11:50:27.057555Z"
    },
    "trusted": true
   },
   "outputs": [],
   "source": [
    "import os\n",
    "import cv2\n",
    "import random\n",
    "import numpy as np\n",
    "import pandas as pd\n",
    "import tensorflow as tf\n",
    "import matplotlib.pyplot as plt\n",
    "from collections import Counter\n",
    "from sklearn.utils import shuffle\n",
    "from tensorflow.keras.models import Model\n",
    "from tensorflow.keras.optimizers import Adam\n",
    "from tensorflow.keras.regularizers import l2\n",
    "from sklearn.metrics import accuracy_score, f1_score\n",
    "from tensorflow.keras.applications import DenseNet121\n",
    "from tensorflow.keras.preprocessing.image import ImageDataGenerator\n",
    "from sklearn.model_selection import train_test_split, StratifiedKFold\n",
    "from tensorflow.keras.callbacks import EarlyStopping, ModelCheckpoint, ReduceLROnPlateau\n",
    "from tensorflow.keras.layers import Dense, Dropout, GlobalAveragePooling2D, BatchNormalization"
   ]
  },
  {
   "cell_type": "code",
   "execution_count": 6,
   "metadata": {
    "execution": {
     "iopub.execute_input": "2025-04-21T11:50:27.064130Z",
     "iopub.status.busy": "2025-04-21T11:50:27.063501Z",
     "iopub.status.idle": "2025-04-21T11:50:27.081497Z",
     "shell.execute_reply": "2025-04-21T11:50:27.080846Z",
     "shell.execute_reply.started": "2025-04-21T11:50:27.064106Z"
    },
    "trusted": true
   },
   "outputs": [
    {
     "name": "stdout",
     "output_type": "stream",
     "text": [
      "Num GPUs Available:  1\n",
      "Using GPU: [PhysicalDevice(name='/physical_device:GPU:0', device_type='GPU')]\n"
     ]
    }
   ],
   "source": [
    "print(\"Num GPUs Available: \", len(tf.config.list_physical_devices('GPU')))\n",
    "\n",
    "gpus = tf.config.list_physical_devices('GPU')\n",
    "if gpus:\n",
    "    print(\"Using GPU:\", gpus)\n",
    "else:\n",
    "    print(\"No GPU detected. Using CPU.\")"
   ]
  },
  {
   "cell_type": "code",
   "execution_count": 13,
   "metadata": {
    "execution": {
     "iopub.execute_input": "2025-04-21T11:51:22.451138Z",
     "iopub.status.busy": "2025-04-21T11:51:22.450489Z",
     "iopub.status.idle": "2025-04-21T11:51:22.459910Z",
     "shell.execute_reply": "2025-04-21T11:51:22.459164Z",
     "shell.execute_reply.started": "2025-04-21T11:51:22.451109Z"
    },
    "trusted": true
   },
   "outputs": [],
   "source": [
    "\n",
    "datasets = {\"dataset_1\": \"/kaggle/input/autism/AutismDataset\"}\n",
    "\n",
    "# function to extract file paths and labels\n",
    "def create_dataframe(dataset_path):\n",
    "    data = {\"file_path\": [], \"label\": []}  # dictionary to hold file paths and labels\n",
    "\n",
    "    # handle differently based on folder type\n",
    "    for sub_dir in [\"train\", \"test\", \"valid\"]:\n",
    "        folder_path = os.path.join(dataset_path, sub_dir)\n",
    "        if not os.path.exists(folder_path):\n",
    "            print(\"WARNING: Directory not found:\", folder_path)\n",
    "            continue\n",
    "\n",
    "        if sub_dir == \"valid\":\n",
    "            # valid has labeled subdirectories\n",
    "            for label_dir, label in zip([\"Autistic\", \"Non_Autistic\"], [1, 0]):\n",
    "                label_folder_path = os.path.join(folder_path, label_dir)\n",
    "                if os.path.exists(label_folder_path):\n",
    "                    for img_file in os.listdir(label_folder_path):\n",
    "                        data[\"file_path\"].append(os.path.join(label_folder_path, img_file))\n",
    "                        data[\"label\"].append(label)\n",
    "        else:\n",
    "            # `train` and `test` have images directly so infer labels from filenames\n",
    "            for img_file in os.listdir(folder_path):\n",
    "                if \"Non_Autistic\" in img_file:\n",
    "                    label = 1\n",
    "                elif \"Autistic\" in img_file:\n",
    "                    label = 0\n",
    "                else:\n",
    "                    continue  # skip unknown files\n",
    "                data[\"file_path\"].append(os.path.join(folder_path, img_file))\n",
    "                data[\"label\"].append(label)\n",
    "\n",
    "    return pd.DataFrame(data)"
   ]
  },
  {
   "cell_type": "code",
   "execution_count": 14,
   "metadata": {
    "execution": {
     "iopub.execute_input": "2025-04-21T11:51:26.000373Z",
     "iopub.status.busy": "2025-04-21T11:51:25.999990Z",
     "iopub.status.idle": "2025-04-21T11:51:26.105325Z",
     "shell.execute_reply": "2025-04-21T11:51:26.104682Z",
     "shell.execute_reply.started": "2025-04-21T11:51:26.000344Z"
    },
    "trusted": true
   },
   "outputs": [
    {
     "name": "stdout",
     "output_type": "stream",
     "text": [
      "Dataset saved with 2940 entries.\n",
      "Train size: 2058 | Valid size: 441 | Test size: 441\n",
      "Train Dataset:\n",
      "label\n",
      "0    1029\n",
      "1    1029\n",
      "Name: count, dtype: int64\n",
      "\n",
      "Validation Dataset:\n",
      "label\n",
      "1    221\n",
      "0    220\n",
      "Name: count, dtype: int64\n",
      "\n",
      "Test Dataset:\n",
      "label\n",
      "0    221\n",
      "1    220\n",
      "Name: count, dtype: int64\n",
      "Shuffled datasets saved successfully!\n"
     ]
    }
   ],
   "source": [
    "\n",
    "# create DataFrame for dataset\n",
    "merged_df = create_dataframe(datasets[\"dataset_1\"])\n",
    "\n",
    "# save the dataset as a CSV file\n",
    "merged_df.to_csv(\"merged_dataset.csv\", index = False)\n",
    "print(\"Dataset saved with\", len(merged_df), \"entries.\")\n",
    "\n",
    "# split the dataset using train_test_split\n",
    "train_df, temp_df = train_test_split(merged_df, test_size = 0.3, stratify = merged_df[\"label\"], random_state = 42)\n",
    "valid_df, test_df = train_test_split(temp_df, test_size = 0.5, stratify = temp_df[\"label\"], random_state = 42)\n",
    "\n",
    "print(\"Train size:\", len(train_df), \"| Valid size:\", len(valid_df), \"| Test size:\", len(test_df))\n",
    "\n",
    "# load the merged dataset\n",
    "merged_df = pd.read_csv(\"merged_dataset.csv\")\n",
    "\n",
    "# shuffle the data\n",
    "train_df = train_df.sample(frac = 1, random_state = 42).reset_index(drop = True)\n",
    "valid_df = valid_df.sample(frac = 1, random_state = 42).reset_index(drop = True)\n",
    "test_df = test_df.sample(frac = 1, random_state = 42).reset_index(drop = True)\n",
    "train_df['label'] = train_df['label'].astype(str)\n",
    "valid_df['label'] = valid_df['label'].astype(str)\n",
    "test_df['label'] = test_df['label'].astype(str)\n",
    "\n",
    "print(\"Train Dataset:\")\n",
    "print(train_df['label'].value_counts())\n",
    "\n",
    "print(\"\\nValidation Dataset:\")\n",
    "print(valid_df['label'].value_counts())\n",
    "\n",
    "print(\"\\nTest Dataset:\")\n",
    "print(test_df['label'].value_counts())\n",
    "\n",
    "# save the shuffled datasets\n",
    "train_df.to_csv(\"train.csv\", index = False)\n",
    "valid_df.to_csv(\"valid.csv\", index = False)\n",
    "test_df.to_csv(\"test.csv\", index = False)\n",
    "\n",
    "print(\"Shuffled datasets saved successfully!\")"
   ]
  },
  {
   "cell_type": "code",
   "execution_count": 15,
   "metadata": {
    "execution": {
     "iopub.execute_input": "2025-04-21T11:51:30.380028Z",
     "iopub.status.busy": "2025-04-21T11:51:30.379379Z",
     "iopub.status.idle": "2025-04-21T11:51:39.338417Z",
     "shell.execute_reply": "2025-04-21T11:51:39.337882Z",
     "shell.execute_reply.started": "2025-04-21T11:51:30.380005Z"
    },
    "trusted": true
   },
   "outputs": [
    {
     "name": "stdout",
     "output_type": "stream",
     "text": [
      "Found 2058 validated image filenames belonging to 2 classes.\n",
      "Found 441 validated image filenames belonging to 2 classes.\n",
      "Found 441 validated image filenames belonging to 2 classes.\n",
      "\n",
      "Train Generator Label Distribution:\n",
      "Counter({0: 1029, 1: 1029})\n",
      "\n",
      "Validation Generator Label Distribution:\n",
      "Counter({1: 221, 0: 220})\n",
      "\n",
      "Test Generator Label Distribution:\n",
      "Counter({0: 221, 1: 220})\n"
     ]
    },
    {
     "name": "stderr",
     "output_type": "stream",
     "text": [
      "I0000 00:00:1745236293.972989      31 gpu_device.cc:2022] Created device /job:localhost/replica:0/task:0/device:GPU:0 with 15513 MB memory:  -> device: 0, name: Tesla P100-PCIE-16GB, pci bus id: 0000:00:04.0, compute capability: 6.0\n"
     ]
    },
    {
     "name": "stdout",
     "output_type": "stream",
     "text": [
      "Downloading data from https://storage.googleapis.com/tensorflow/keras-applications/densenet/densenet121_weights_tf_dim_ordering_tf_kernels_notop.h5\n",
      "\u001b[1m29084464/29084464\u001b[0m \u001b[32m━━━━━━━━━━━━━━━━━━━━\u001b[0m\u001b[37m\u001b[0m \u001b[1m2s\u001b[0m 0us/step\n"
     ]
    }
   ],
   "source": [
    "\n",
    "# define ImageDataGenerators with improved augmentation\n",
    "train_datagen = ImageDataGenerator(\n",
    "    rescale = 1.0 / 255.0,  # normalize pixel values to [0, 1]\n",
    "    rotation_range = 5,  # rotate images by up to 5 degrees\n",
    "    width_shift_range = 0.1,  # shift images horizontally by up to 10% of the width\n",
    "    height_shift_range = 0.1,  # shift images vertically by up to 10% of the height\n",
    "    horizontal_flip = True,  # flip images horizontally\n",
    "    fill_mode = 'nearest'  # fill any missing pixels after transformations\n",
    ")\n",
    "\n",
    "valid_test_datagen = ImageDataGenerator(rescale = 1.0 / 255.0)  # no augmentation for validation & test\n",
    "\n",
    "train_generator = train_datagen.flow_from_dataframe(dataframe = train_df, x_col = \"file_path\", y_col = \"label\", target_size = (224, 224), batch_size = 32, class_mode = \"binary\")\n",
    "\n",
    "valid_generator = valid_test_datagen.flow_from_dataframe(dataframe = valid_df, x_col = \"file_path\", y_col = \"label\", target_size = (224, 224), batch_size = 32, class_mode = \"binary\")\n",
    "\n",
    "test_generator = valid_test_datagen.flow_from_dataframe(dataframe = test_df, x_col = \"file_path\", y_col = \"label\", target_size = (224, 224), batch_size = 32, class_mode = \"binary\", shuffle = False)\n",
    "\n",
    "# Print label distribution for each generator\n",
    "print(\"\\nTrain Generator Label Distribution:\")\n",
    "print(Counter(train_generator.labels))\n",
    "\n",
    "print(\"\\nValidation Generator Label Distribution:\")\n",
    "print(Counter(valid_generator.labels))\n",
    "\n",
    "print(\"\\nTest Generator Label Distribution:\")\n",
    "print(Counter(test_generator.labels))\n",
    "\n",
    "# Recreate the model architecture\n",
    "strategy = tf.distribute.MirroredStrategy()\n",
    "with strategy.scope():\n",
    "    base_model = DenseNet121(weights=\"imagenet\", include_top=False, input_shape=(224, 224, 3))\n",
    "    x = GlobalAveragePooling2D()(base_model.output)\n",
    "    x = BatchNormalization()(x)\n",
    "    x = Dense(256, activation=\"relu\")(x)\n",
    "    x = Dropout(0.6)(x)\n",
    "    output = Dense(1, activation=\"sigmoid\")(x)\n",
    "\n",
    "    model = Model(inputs=base_model.input, outputs=output)\n",
    "    model.compile(optimizer=Adam(learning_rate=0.0001), loss=\"binary_crossentropy\", metrics=[\"accuracy\"])"
   ]
  },
  {
   "cell_type": "code",
   "execution_count": null,
   "metadata": {
    "execution": {
     "iopub.execute_input": "2025-04-21T12:26:34.348128Z",
     "iopub.status.busy": "2025-04-21T12:26:34.347815Z",
     "iopub.status.idle": "2025-04-21T12:27:16.081945Z",
     "shell.execute_reply": "2025-04-21T12:27:16.081273Z",
     "shell.execute_reply.started": "2025-04-21T12:26:34.348106Z"
    },
    "trusted": true
   },
   "outputs": [
    {
     "name": "stdout",
     "output_type": "stream",
     "text": [
      "\u001b[1m65/65\u001b[0m \u001b[32m━━━━━━━━━━━━━━━━━━━━\u001b[0m\u001b[37m\u001b[0m \u001b[1m34s\u001b[0m 439ms/step\n",
      "\u001b[1m14/14\u001b[0m \u001b[32m━━━━━━━━━━━━━━━━━━━━\u001b[0m\u001b[37m\u001b[0m \u001b[1m1s\u001b[0m 105ms/step\n",
      "\u001b[1m14/14\u001b[0m \u001b[32m━━━━━━━━━━━━━━━━━━━━\u001b[0m\u001b[37m\u001b[0m \u001b[1m2s\u001b[0m 110ms/step\n",
      "Train F1 Score: 0.472 | ROC AUC: 0.4896\n",
      "Validation F1 Score: 0.4858 | ROC AUC: 0.5199\n",
      "Test F1 Score: 0.7754 | ROC AUC: 0.8567\n"
     ]
    },
    {
     "data": {
      "image/png": "[encoded data removed]",
      "text/plain": [
       "<Figure size 800x600 with 1 Axes>"
      ]
     },
     "metadata": {},
     "output_type": "display_data"
    }
   ],
   "source": [
    "# Load the full model\n",
    "model_path = '/kaggle/input/modelmain/keras/default/1/densenet121_model.keras'\n",
    "model = tf.keras.models.load_model(model_path)\n",
    "\n",
    "import numpy as np\n",
    "import matplotlib.pyplot as plt\n",
    "from sklearn.metrics import f1_score, roc_auc_score, roc_curve\n",
    "\n",
    "# Convert labels to numpy arrays\n",
    "train_labels = np.array(train_generator.labels).astype(int)\n",
    "val_labels = np.array(valid_generator.labels).astype(int)\n",
    "test_labels = np.array(test_generator.labels).astype(int)\n",
    "\n",
    "# Get raw prediction probabilities (for ROC)\n",
    "train_probs = model.predict(train_generator).flatten()\n",
    "val_probs = model.predict(valid_generator).flatten()\n",
    "test_probs = model.predict(test_generator).flatten()\n",
    "\n",
    "# Binarize predictions\n",
    "train_preds = (train_probs > 0.5).astype(int)\n",
    "val_preds = (val_probs > 0.5).astype(int)\n",
    "test_preds = (test_probs > 0.5).astype(int)\n",
    "\n",
    "# F1 Scores\n",
    "train_f1 = f1_score(train_labels, train_preds)\n",
    "val_f1 = f1_score(val_labels, val_preds)\n",
    "test_f1 = f1_score(test_labels, test_preds)\n",
    "\n",
    "# ROC AUC Scores\n",
    "train_auc = roc_auc_score(train_labels, train_probs)\n",
    "val_auc = roc_auc_score(val_labels, val_probs)\n",
    "test_auc = roc_auc_score(test_labels, test_probs)\n",
    "\n",
    "# Print all scores\n",
    "print(\"Train F1 Score:\", round(train_f1, 4), \"| ROC AUC:\", round(train_auc, 4))\n",
    "print(\"Validation F1 Score:\", round(val_f1, 4), \"| ROC AUC:\", round(val_auc, 4))\n",
    "print(\"Test F1 Score:\", round(test_f1, 4), \"| ROC AUC:\", round(test_auc, 4))\n",
    "\n",
    "# Plot ROC curves\n",
    "def plot_roc(labels, probs, label_name):\n",
    "    fpr, tpr, _ = roc_curve(labels, probs)\n",
    "    plt.plot(fpr, tpr, label=f\"{label_name} (AUC = {roc_auc_score(labels, probs):.4f})\")\n",
    "\n",
    "plt.figure(figsize=(8, 6))\n",
    "plot_roc(train_labels, train_probs, \"Train\")\n",
    "plot_roc(val_labels, val_probs, \"Validation\")\n",
    "plot_roc(test_labels, test_probs, \"Test\")\n",
    "\n",
    "plt.plot([0, 1], [0, 1], 'k--', label='Random')\n",
    "plt.xlabel(\"False Positive Rate\")\n",
    "plt.ylabel(\"True Positive Rate\")\n",
    "plt.title(\"ROC Curves\")\n",
    "plt.legend(loc=\"lower right\")\n",
    "plt.grid(True)\n",
    "plt.tight_layout()\n",
    "plt.show()"
   ]
  }
 ],
 "metadata": {
  "kaggle": {
   "accelerator": "gpu",
   "dataSources": [
    {
     "datasetId": 7209751,
     "sourceId": 11500272,
     "sourceType": "datasetVersion"
    },
    {
     "isSourceIdPinned": true,
     "modelId": 312586,
     "modelInstanceId": 291932,
     "sourceId": 349595,
     "sourceType": "modelInstanceVersion"
    },
    {
     "isSourceIdPinned": true,
     "modelId": 312612,
     "modelInstanceId": 291958,
     "sourceId": 349622,
     "sourceType": "modelInstanceVersion"
    }
   ],
   "dockerImageVersionId": 31011,
   "isGpuEnabled": true,
   "isInternetEnabled": true,
   "language": "python",
   "sourceType": "notebook"
  },
  "kernelspec": {
   "display_name": "Python 3",
   "language": "python",
   "name": "python3"
  },
  "language_info": {
   "codemirror_mode": {
    "name": "ipython",
    "version": 3
   },
   "file_extension": ".py",
   "mimetype": "text/x-python",
   "name": "python",
   "nbconvert_exporter": "python",
   "pygments_lexer": "ipython3",
   "version": "3.11.11"
  }
 },
 "nbformat": 4,
 "nbformat_minor": 4
}
